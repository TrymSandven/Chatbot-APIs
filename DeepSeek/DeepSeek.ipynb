{
 "cells": [
  {
   "cell_type": "code",
   "execution_count": null,
   "metadata": {},
   "outputs": [],
   "source": [
    "from openai import OpenAI\n",
    "import random\n",
    "\n",
    "with open(\"api_key.txt\", \"r\") as f:\n",
    "    api_key = f.read().strip()\n",
    "\n",
    "client = OpenAI(api_key=api_key, base_url=\"https://api.deepseek.com\")\n",
    "\n",
    "sys_instruct=\"All prompts should be answered with an in depth paper with an introduction, middle and end structured into chapters that is about 4 pages, written in markdown and include sources. Dont answer anything with less than 4 pages. Dont write anything other than the paper.\"\n",
    "topics = [\"technology\", \"science\", \"history\", \"art\", \"literature\", \"politics\", \"economics\", \"philosophy\"]\n",
    "\n",
    "for _ in range(2):\n",
    "    topic = random.choice(topics)\n",
    "    completion = client.chat.completions.create(\n",
    "    model=\"deepseek-chat\",\n",
    "    messages=[\n",
    "        {\"role\": \"system\", \"content\": sys_instruct},\n",
    "        {\"role\": \"user\", \"content\": f\"Write a paper about {topic}. The specific topic is up to you.\"}\n",
    "    ],\n",
    "    stream=False\n",
    "    )\n",
    "    print(completion.choices[0].message.content)\n",
    "\n",
    "\n",
    "    try: \n",
    "        with open(f\"outputs/{_}_{topic}.md\", \"a\") as f:\n",
    "            f.write(completion.choices[0].message.content)\n",
    "    except:\n",
    "        pass"
   ]
  }
 ],
 "metadata": {
  "kernelspec": {
   "display_name": "base",
   "language": "python",
   "name": "python3"
  },
  "language_info": {
   "codemirror_mode": {
    "name": "ipython",
    "version": 3
   },
   "file_extension": ".py",
   "mimetype": "text/x-python",
   "name": "python",
   "nbconvert_exporter": "python",
   "pygments_lexer": "ipython3",
   "version": "3.12.7"
  }
 },
 "nbformat": 4,
 "nbformat_minor": 2
}
