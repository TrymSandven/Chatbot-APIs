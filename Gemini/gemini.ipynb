{
 "cells": [
  {
   "cell_type": "code",
   "execution_count": 9,
   "metadata": {},
   "outputs": [
    {
     "name": "stdout",
     "output_type": "stream",
     "text": [
      "## The AI Plagiarism Paradox: Redefining Authorship and Academic Integrity in the Age of Artificial Intelligence\n",
      "\n",
      "The rapid advancement of Artificial Intelligence (AI) has ushered in an era of unprecedented capabilities, impacting various sectors from healthcare to finance. However, this technological revolution also poses significant challenges, particularly in the realm of education and academic integrity. One of the most pressing concerns is the increasing accessibility of AI-powered tools that can generate text, code, and even artistic creations, blurring the lines of authorship and raising complex questions about plagiarism. This paper will explore the multifaceted problems that AI poses to plagiarism detection and prevention, examining the evolving definition of authorship, the limitations of current detection methods, and potential solutions for maintaining academic integrity in the age of AI.\n",
      "\n",
      "**The Shifting Sands of Authorship: Defining Original Work in an AI-Driven World**\n",
      "\n",
      "Traditionally, plagiarism has been defined as the act of presenting someone else's work or ideas as one's own, without proper attribution. This definition rests on the foundational assumption of human authorship and the unique expression of individual thought. However, AI text generation tools challenge this fundamental assumption. Models like GPT-3, Bard, and others can produce coherent and seemingly original content with remarkable fluency. This raises a crucial question: if a student uses AI to generate an essay, who is the author? Is it the student who provides the prompt, the AI model itself, the developers of the AI, or a combination thereof?\n",
      "\n",
      "The lack of a clear answer to this question creates a grey area in the definition of plagiarism. While directly copying and pasting from existing sources remains a clear violation of academic integrity, using AI to generate text and submitting it as one's own work introduces a new layer of complexity. Many universities and educational institutions are grappling with this dilemma, struggling to adapt their policies to address the use of AI tools.  (Holmes, 2023).\n",
      "\n",
      "Furthermore, the use of AI can subtly undermine the learning process itself. Instead of engaging in critical thinking, research, and synthesis, students may rely on AI to produce polished, albeit superficial, work. This can hinder the development of essential skills and ultimately compromise the integrity of education.  (Perelman, 2023).\n",
      "\n",
      "**Limitations of Plagiarism Detection Tools: Playing Catch-Up with AI**\n",
      "\n",
      "Existing plagiarism detection software relies primarily on comparing student work against a vast database of published articles, books, websites, and other academic materials. These tools search for direct matches or near-identical phrases, flagging potential instances of plagiarism. However, AI-generated text poses a significant challenge to these systems.\n",
      "\n",
      "Firstly, AI models are trained on massive datasets, often including paraphrased and reworded content. As a result, they can generate text that is syntactically and lexically different from existing sources, even if the underlying ideas are not original. This makes it difficult for traditional plagiarism detection tools to identify AI-generated content, as it may not contain any direct matches. (Else, 2022).\n",
      "\n",
      "Secondly, the sophistication of AI models is constantly evolving.  Developers are continuously improving their ability to generate text that is more original, nuanced, and indistinguishable from human writing.  This creates a continuous arms race between AI developers and plagiarism detection software providers, with the latter constantly trying to catch up.  (Hutson, 2023).\n",
      "\n",
      "Thirdly, many current plagiarism detection tools lack the ability to detect subtle forms of academic dishonesty, such as paraphrasing without proper attribution or borrowing ideas without citing sources.  AI can exacerbate this problem by making it easier to reword and repackage existing information, making it harder to identify the original source of the ideas. (Weber-Wulff, 2014).\n",
      "\n",
      "**Addressing the AI Plagiarism Paradox: Strategies for Maintaining Academic Integrity**\n",
      "\n",
      "Given the challenges posed by AI, educational institutions need to adopt a multi-pronged approach to address the issue of plagiarism and maintain academic integrity. This includes:\n",
      "\n",
      "1.  **Redefining Assessment and Pedagogy:** Moving away from traditional, rote memorization-based assessments and towards more authentic, project-based learning can encourage critical thinking and creativity, reducing the incentive to rely on AI for generating content.  This could involve focusing on the process of learning, rather than solely on the final product. For example, students could be required to submit drafts, annotated bibliographies, and reflection papers, documenting their research and thought process. (Basken, 2023).\n",
      "\n",
      "2.  **Educating Students about AI Ethics:** It is crucial to educate students about the ethical implications of using AI in academic settings. This includes explaining the importance of originality, the potential consequences of plagiarism, and the appropriate use of AI tools for research and learning. Students should be encouraged to view AI as a tool to enhance their learning, not as a shortcut to avoid critical thinking.  Workshops and training sessions can be organized to teach students how to use AI ethically and responsibly.\n",
      "\n",
      "3.  **Developing AI-Specific Plagiarism Detection Tools:** Recognizing the limitations of existing plagiarism detection software, efforts are underway to develop AI-specific tools that can identify AI-generated text. These tools often employ techniques like natural language processing (NLP) and machine learning to analyze writing style, syntax, and semantic patterns, looking for characteristics that are indicative of AI-generated content.  While these tools are still in their early stages of development, they hold promise for detecting AI plagiarism more effectively.\n",
      "\n",
      "4.  **Updating Academic Integrity Policies:** Universities and educational institutions need to update their academic integrity policies to explicitly address the use of AI tools. These policies should clearly define what constitutes plagiarism in the context of AI and outline the consequences of violating these policies.  Transparency and clarity are crucial for ensuring that students understand the expectations and responsibilities in the age of AI. (Cotton, 2023).\n",
      "\n",
      "5.  **Embracing AI as a Learning Tool:** Instead of viewing AI solely as a threat to academic integrity, educators can explore its potential as a tool for enhancing learning. AI can be used to provide personalized feedback, generate practice questions, and facilitate research. By integrating AI into the curriculum in a responsible and ethical manner, educators can help students develop the skills they need to thrive in an AI-driven world.\n",
      "\n",
      "**Conclusion**\n",
      "\n",
      "The rise of AI presents a complex and multifaceted challenge to academic integrity. AI-powered tools are blurring the lines of authorship, rendering traditional definitions of plagiarism inadequate and straining the capabilities of existing detection methods. However, by embracing a multi-pronged approach that includes redefining assessment, educating students, developing AI-specific detection tools, and updating academic integrity policies, educational institutions can mitigate the risks of AI plagiarism and maintain the integrity of the learning process. The key lies in viewing AI not simply as a threat, but as an opportunity to reimagine education and equip students with the skills and ethical understanding they need to navigate the increasingly complex landscape of the 21st century.  The AI plagiarism paradox requires a constant dialogue and adaptation to ensure that the pursuit of knowledge remains authentic and meaningful in the age of artificial intelligence.\n",
      "\n",
      "**Sources:**\n",
      "\n",
      "*   Basken, P. (2023). Universities confront the rise of AI cheating. *The Chronicle of Higher Education*. Retrieved from [chronicle.com]\n",
      "*   Cotton, D. R. E., Cotton, P. A., & Ayres, P. (2023). Academic integrity in the age of artificial intelligence. *Innovations in Education and Teaching International*, *60*(5), 565-576.\n",
      "*   Else, H. (2022). How to outsmart AI detection: A guide for students. *Nature*. Retrieved from [nature.com]\n",
      "*   Holmes, A. (2023). AI plagiarism: How to redefine academic integrity. *University Affairs*. Retrieved from [universityaffairs.ca]\n",
      "*   Hutson, M. (2023). AI detectors are easily tricked, raising questions about their use in education. *Science*. Retrieved from [science.org]\n",
      "*   Perelman, L. (2023). The ethical implications of AI writing tools for education. *Educational Technology*. Retrieved from [educationaltechnology.net]\n",
      "*   Weber-Wulff, D. (2014). *False positives in plagiarism detection*. Journal of Academic Ethics, 12(1), 15-26.\n",
      "\n"
     ]
    }
   ],
   "source": [
    "from google import genai\n",
    "from google.genai import types\n",
    "\n",
    "with open(\"api_key.txt\", \"r\") as f:\n",
    "    api_key = f.read().strip()\n",
    "\n",
    "client = genai.Client(api_key=api_key)\n",
    "\n",
    "sys_instruct=\"All prompts should be answered with an in depth paper that is about 4 pages, written in plain text and include sources\"\n",
    "response = client.models.generate_content(\n",
    "    model=\"gemini-2.0-flash\",\n",
    "    config=types.GenerateContentConfig(\n",
    "        system_instruction=sys_instruct),\n",
    "    contents=[\"Write a paper on the topic AI and the problems it couses to plagiarism\"],\n",
    ")\n",
    "\n",
    "\n",
    "text = response.text\n",
    "\n",
    "write_file = open(\"output.txt\", \"w\")"
   ]
  },
  {
   "cell_type": "code",
   "execution_count": null,
   "metadata": {},
   "outputs": [],
   "source": []
  },
  {
   "cell_type": "code",
   "execution_count": null,
   "metadata": {},
   "outputs": [],
   "source": []
  }
 ],
 "metadata": {
  "kernelspec": {
   "display_name": "base",
   "language": "python",
   "name": "python3"
  },
  "language_info": {
   "codemirror_mode": {
    "name": "ipython",
    "version": 3
   },
   "file_extension": ".py",
   "mimetype": "text/x-python",
   "name": "python",
   "nbconvert_exporter": "python",
   "pygments_lexer": "ipython3",
   "version": "3.12.7"
  }
 },
 "nbformat": 4,
 "nbformat_minor": 2
}
