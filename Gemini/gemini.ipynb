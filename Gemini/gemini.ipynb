{
 "cells": [
  {
   "cell_type": "code",
   "execution_count": 7,
   "metadata": {},
   "outputs": [
    {
     "name": "stdout",
     "output_type": "stream",
     "text": [
      "Written to file\n"
     ]
    }
   ],
   "source": [
    "from google import genai\n",
    "from google.genai import types\n",
    "import random\n",
    "import subprocess\n",
    "import pathlib\n",
    "from dotenv import load_dotenv\n",
    "import os\n",
    "\n",
    "load_dotenv()\n",
    "\n",
    "api_key = os.getenv(\"API_KEY\")\n",
    "\n",
    "client = genai.Client(api_key=api_key)\n",
    "\n",
    "topics = [\"technology\", \"science\", \"history\", \"art\", \"literature\", \"politics\", \"economics\", \"philosophy\"]\n",
    "\n",
    "sys_instruction=\"All prompts should be answered with an in depth paper with an introduction, middle and end structured into chapters that is about 4 pages, written in markdown and include sources. Dont answer anything with less than 4 pages. Dont write anything other than the paper.\"\n",
    "\n",
    "plagiarism_score = 0\n",
    "version = 1\n",
    "file_path = f\"\"\n",
    "topic = \"\"\n",
    "\n",
    "\n",
    "for paper_number in range(1, 2):\n",
    "    topic = random.choice(topics)\n",
    "    response = client.models.generate_content(\n",
    "    model=\"gemini-2.0-flash\",\n",
    "    config=types.GenerateContentConfig(\n",
    "        system_instruction=sys_instruction),\n",
    "    contents=[f\"Write a paper about {topic}. The specific topic is up to you.\"],\n",
    "    )\n",
    "\n",
    "    try: \n",
    "        with open(f\"outputs/{paper_number}_{topic}_version{version}.md\", \"a\") as f:\n",
    "            f.write(response.text)\n",
    "        file_path = f\"outputs/{paper_number}_{topic}_version{version}\"\n",
    "        print('Written to file')\n",
    "    except:\n",
    "        print(\"Error writing to file\")\n",
    "\n",
    "    command = f'pandoc \"{file_path}.md\" --pdf-engine=xelatex -o \"{file_path}.pdf'\n",
    "    subprocess.run(command, shell=True, check=True)\n"
   ]
  },
  {
   "cell_type": "code",
   "execution_count": 26,
   "metadata": {},
   "outputs": [],
   "source": [
    "import xmlrpc.client\n",
    "\n",
    "load_dotenv()\n",
    "\n",
    "username = os.getenv(\"ITHENTICATE_USERNAME\")\n",
    "password = os.getenv(\"ITHENTICATE_PASSWORD\")\n",
    "\n",
    "url = \"https://api.ithenticate.com/rpc\"\n",
    "server = xmlrpc.client.ServerProxy(url)\n",
    "\n",
    "credentials = {\n",
    "    'username': username,\n",
    "    'password': password\n",
    "}\n",
    "\n",
    "response = server.login(credentials)\n",
    "sid = response['sid']\n",
    "sid_dict =  dict(sid = response['sid'])\n",
    "\n",
    "\n"
   ]
  },
  {
   "cell_type": "code",
   "execution_count": 28,
   "metadata": {},
   "outputs": [
    {
     "name": "stdout",
     "output_type": "stream",
     "text": [
      "Folder ID for 'Trym Master Thesis': {'folder': 4378261}\n"
     ]
    }
   ],
   "source": [
    "response = server.folder.list(sid_dict)\n",
    "\n",
    "\n",
    "folder_id = None\n",
    "for folder in response.get('folders', []):\n",
    "    if folder.get('name') == 'Trym Master Thesis':\n",
    "        folder_id = folder.get('id')\n",
    "        break\n",
    "\n",
    "folder = dict(folder = folder_id)\n",
    "print(f\"Folder ID for 'Trym Master Thesis': {folder}\")"
   ]
  },
  {
   "cell_type": "code",
   "execution_count": 32,
   "metadata": {},
   "outputs": [
    {
     "name": "stdout",
     "output_type": "stream",
     "text": [
      "[{'title': '1_art_version1', 'author_first': 'Google', 'author_last': 'Gemini', 'filename': '1_art_version1.pdf', 'upload': <xmlrpc.client.Binary object at 0x000001BDD881FCB0>}, {'title': '1_philosophy_version1', 'author_first': 'Google', 'author_last': 'Gemini', 'filename': '1_philosophy_version1.pdf', 'upload': <xmlrpc.client.Binary object at 0x000001BDD885AE70>}, {'title': '1_philosophy_version2', 'author_first': 'Google', 'author_last': 'Gemini', 'filename': '1_philosophy_version2.pdf', 'upload': <xmlrpc.client.Binary object at 0x000001BDD8858200>}, {'title': '1_philosophy_version3', 'author_first': 'Google', 'author_last': 'Gemini', 'filename': '1_philosophy_version3.pdf', 'upload': <xmlrpc.client.Binary object at 0x000001BDD88605C0>}, {'title': '1_philosophy_version4', 'author_first': 'Google', 'author_last': 'Gemini', 'filename': '1_philosophy_version4.pdf', 'upload': <xmlrpc.client.Binary object at 0x000001BDD8861A30>}, {'title': '1_philosophy_version5', 'author_first': 'Google', 'author_last': 'Gemini', 'filename': '1_philosophy_version5.pdf', 'upload': <xmlrpc.client.Binary object at 0x000001BDD8861C70>}]\n",
      "{'sid': '27dce9847c10ae8589db6be3ab5cc7a4196a913b', 'folder': 4378261, 'submit_to': 1, 'uploads': [{'title': '1_art_version1', 'author_first': 'Google', 'author_last': 'Gemini', 'filename': '1_art_version1.pdf', 'upload': <xmlrpc.client.Binary object at 0x000001BDD881FCB0>}, {'title': '1_philosophy_version1', 'author_first': 'Google', 'author_last': 'Gemini', 'filename': '1_philosophy_version1.pdf', 'upload': <xmlrpc.client.Binary object at 0x000001BDD885AE70>}, {'title': '1_philosophy_version2', 'author_first': 'Google', 'author_last': 'Gemini', 'filename': '1_philosophy_version2.pdf', 'upload': <xmlrpc.client.Binary object at 0x000001BDD8858200>}, {'title': '1_philosophy_version3', 'author_first': 'Google', 'author_last': 'Gemini', 'filename': '1_philosophy_version3.pdf', 'upload': <xmlrpc.client.Binary object at 0x000001BDD88605C0>}, {'title': '1_philosophy_version4', 'author_first': 'Google', 'author_last': 'Gemini', 'filename': '1_philosophy_version4.pdf', 'upload': <xmlrpc.client.Binary object at 0x000001BDD8861A30>}, {'title': '1_philosophy_version5', 'author_first': 'Google', 'author_last': 'Gemini', 'filename': '1_philosophy_version5.pdf', 'upload': <xmlrpc.client.Binary object at 0x000001BDD8861C70>}]}\n",
      "{'messages': ['Uploaded 6 documents successfully'], 'uploaded': [{'filename': '1_art_version1.pdf', 'folder': {'id': 4378261, 'name': 'Trym Master Thesis'}, 'mime_type': 'application/pdf', 'id': 115322054}, {'id': 115322055, 'mime_type': 'application/pdf', 'folder': {'name': 'Trym Master Thesis', 'id': 4378261}, 'filename': '1_philosophy_version1.pdf'}, {'id': 115322056, 'mime_type': 'application/pdf', 'folder': {'id': 4378261, 'name': 'Trym Master Thesis'}, 'filename': '1_philosophy_version2.pdf'}, {'id': 115322057, 'mime_type': 'application/pdf', 'folder': {'name': 'Trym Master Thesis', 'id': 4378261}, 'filename': '1_philosophy_version3.pdf'}, {'filename': '1_philosophy_version4.pdf', 'folder': {'name': 'Trym Master Thesis', 'id': 4378261}, 'mime_type': 'application/pdf', 'id': 115322058}, {'mime_type': 'application/pdf', 'id': 115322059, 'filename': '1_philosophy_version5.pdf', 'folder': {'name': 'Trym Master Thesis', 'id': 4378261}}], 'api_status': 200, 'response_timestamp': <DateTime '2025-03-24T13:22:51Z' at 0x1bdda3eda90>, 'sid': '27dce9847c10ae8589db6be3ab5cc7a4196a913b', 'status': 200}\n"
     ]
    }
   ],
   "source": [
    "import os\n",
    "import base64\n",
    "\n",
    "# Define the folder containing the PDFs\n",
    "folder_path = 'outputs'\n",
    "\n",
    "# Initialize the array to hold document data\n",
    "documents = []\n",
    "\n",
    "# Iterate through all files in the folder\n",
    "for filename in os.listdir(folder_path):\n",
    "    if filename.endswith('.pdf'):\n",
    "        # Extract the title from the filename (assuming the title is the filename without extension)\n",
    "        title = os.path.splitext(filename)[0]\n",
    "        \n",
    "        # Placeholder for author information (you may need to extract this from the PDF metadata or another source)\n",
    "        author_first = 'Google'\n",
    "        author_last = 'Gemini'\n",
    "        \n",
    "        # Read the PDF file and encode its content in base64\n",
    "        with open(os.path.join(folder_path, filename), 'rb') as pdf_file:\n",
    "            encoded_pdf = xmlrpc.client.Binary(pdf_file.read())\n",
    "        \n",
    "        # Create the document data dictionary\n",
    "        document_data = {\n",
    "            'title': title,\n",
    "            'author_first': author_first,\n",
    "            'author_last': author_last,\n",
    "            'filename': filename,\n",
    "            'upload': encoded_pdf\n",
    "        }\n",
    "        \n",
    "        # Add the document data to the array\n",
    "        documents.append(document_data)\n",
    "\n",
    "# Update the test dictionary with the documents array\n",
    "arguments = dict(sid=sid, folder=folder_id, submit_to=1, uploads=documents)\n",
    "\n",
    "# Print the documents array for verification\n",
    "print(documents)\n",
    "print(arguments)\n",
    "\n",
    "# Submit the documents to iThenticate\n",
    "response = server.document.add(arguments)\n",
    "print(response)"
   ]
  },
  {
   "cell_type": "code",
   "execution_count": 36,
   "metadata": {},
   "outputs": [
    {
     "name": "stdout",
     "output_type": "stream",
     "text": [
      "{'folder': {'exclude_biblio': 1, 'name': 'Trym Master Thesis', 'exclude_abstracts': 0, 'exclude_by_percent': 0, 'setup_time': <DateTime '2025-03-24T12:26:12Z' at 0x1bdda481c40>, 'id': 4378261, 'group': {'id': 838047, 'name': 'My Folders'}, 'exclude_small_matches': 0, 'collections': [34, 779, 33, 32], 'folder_group': 838047, 'exclude_methods': 0, 'exclude_quotes': 0, 'minimum_match_word_count': 0, 'description': '', 'exclude_word_count': 0, 'exclude_percent': 0, 'limit_match_size': 0, 'collection_detail': [{'name': 'Crossref', 'id': 34}, {'name': 'Crossref Posted Content', 'id': 779}, {'name': 'Internet', 'id': 33}, {'name': 'Publications', 'id': 32}]}, 'pager': {'current_page': 1, 'entries_per_page': 25, 'total_entries': 1}, 'response_timestamp': <DateTime '2025-03-24T13:38:26Z' at 0x1bdda480bc0>, 'sid': '27dce9847c10ae8589db6be3ab5cc7a4196a913b', 'documents': [{'is_pending': 0, 'author_last': 'Gemini', 'id': 115322054, 'percent_match': 13, 'processed_time': <DateTime '2025-03-24T13:22:59Z' at 0x1bdda4821e0>, 'uploaded_time': <DateTime '2025-03-24T13:22:50Z' at 0x1bdda482db0>, 'parts': [{'score': 13, 'id': 114793612, 'words': 1364, 'max_percent_match': 2, 'doc_id': 115322054, 'processed_time': '2025-03-24 06:22:59.668831-07'}], 'author_first': 'Google', 'title': '1_art_version1'}], 'status': 200, 'api_status': 200}\n",
      "13\n"
     ]
    }
   ],
   "source": [
    "arguments = dict(sid=sid, id=115322054)\n",
    "\n",
    "response = server.document.get(arguments)\n",
    "print(response)\n",
    "score = response['documents'][0]['parts'][0]['score']\n",
    "print(score)"
   ]
  },
  {
   "cell_type": "code",
   "execution_count": 26,
   "metadata": {},
   "outputs": [
    {
     "name": "stdout",
     "output_type": "stream",
     "text": [
      "Plagiarism score: 25%\n",
      "Plagiarism score: 40%\n",
      "Plagiarism score: 20%\n",
      "Plagiarism score: 20%\n",
      "Plagiarism score: 20%\n"
     ]
    },
    {
     "ename": "KeyboardInterrupt",
     "evalue": "",
     "output_type": "error",
     "traceback": [
      "\u001b[1;31m---------------------------------------------------------------------------\u001b[0m",
      "\u001b[1;31mKeyboardInterrupt\u001b[0m                         Traceback (most recent call last)",
      "Cell \u001b[1;32mIn[26], line 21\u001b[0m\n\u001b[0;32m     18\u001b[0m prompt \u001b[38;5;241m=\u001b[39m \u001b[38;5;124mf\u001b[39m\u001b[38;5;124m\"\u001b[39m\u001b[38;5;124mYou got got cought plagiarizing. The plagirism score was \u001b[39m\u001b[38;5;132;01m{\u001b[39;00mplagiarism_score\u001b[38;5;132;01m}\u001b[39;00m\u001b[38;5;124m%. Write the paper again to fix the plagiarism.\u001b[39m\u001b[38;5;124m\"\u001b[39m\n\u001b[0;32m     19\u001b[0m sys_instruction\u001b[38;5;241m=\u001b[39m\u001b[38;5;124m\"\u001b[39m\u001b[38;5;124mAll prompts should be answered with an in depth paper with an introduction, middle and end structured into chapters that is about 4 pages, written in markdown and include sources. Dont answer anything with less than 4 pages. Dont write anything other than the paper. The paper should be about the same topic as the previous one. With as few changes as possible.\u001b[39m\u001b[38;5;124m\"\u001b[39m\n\u001b[1;32m---> 21\u001b[0m response \u001b[38;5;241m=\u001b[39m client\u001b[38;5;241m.\u001b[39mmodels\u001b[38;5;241m.\u001b[39mgenerate_content(\n\u001b[0;32m     22\u001b[0m model\u001b[38;5;241m=\u001b[39m\u001b[38;5;124m\"\u001b[39m\u001b[38;5;124mgemini-2.0-flash\u001b[39m\u001b[38;5;124m\"\u001b[39m,\n\u001b[0;32m     23\u001b[0m config\u001b[38;5;241m=\u001b[39mtypes\u001b[38;5;241m.\u001b[39mGenerateContentConfig(\n\u001b[0;32m     24\u001b[0m     system_instruction\u001b[38;5;241m=\u001b[39msys_instruction),\n\u001b[0;32m     25\u001b[0m     contents\u001b[38;5;241m=\u001b[39m[\n\u001b[0;32m     26\u001b[0m     types\u001b[38;5;241m.\u001b[39mPart\u001b[38;5;241m.\u001b[39mfrom_bytes(\n\u001b[0;32m     27\u001b[0m         data\u001b[38;5;241m=\u001b[39mpdf_bytes,\n\u001b[0;32m     28\u001b[0m         mime_type\u001b[38;5;241m=\u001b[39m\u001b[38;5;124m'\u001b[39m\u001b[38;5;124mapplication/pdf\u001b[39m\u001b[38;5;124m'\u001b[39m,\n\u001b[0;32m     29\u001b[0m         ),\n\u001b[0;32m     30\u001b[0m         prompt])\n\u001b[0;32m     32\u001b[0m \u001b[38;5;28;01mtry\u001b[39;00m: \n\u001b[0;32m     33\u001b[0m     file_path \u001b[38;5;241m=\u001b[39m \u001b[38;5;124mf\u001b[39m\u001b[38;5;124m\"\u001b[39m\u001b[38;5;124moutputs/\u001b[39m\u001b[38;5;132;01m{\u001b[39;00mpaper_number\u001b[38;5;132;01m}\u001b[39;00m\u001b[38;5;124m_\u001b[39m\u001b[38;5;132;01m{\u001b[39;00mtopic\u001b[38;5;132;01m}\u001b[39;00m\u001b[38;5;124m_version\u001b[39m\u001b[38;5;132;01m{\u001b[39;00mpaper_version\u001b[38;5;241m+\u001b[39m\u001b[38;5;241m1\u001b[39m\u001b[38;5;132;01m}\u001b[39;00m\u001b[38;5;124m\"\u001b[39m\n",
      "File \u001b[1;32mc:\\Users\\trym1\\anaconda3\\Lib\\site-packages\\google\\genai\\models.py:5304\u001b[0m, in \u001b[0;36mModels.generate_content\u001b[1;34m(self, model, contents, config)\u001b[0m\n\u001b[0;32m   5302\u001b[0m \u001b[38;5;28;01mwhile\u001b[39;00m remaining_remote_calls_afc \u001b[38;5;241m>\u001b[39m \u001b[38;5;241m0\u001b[39m:\n\u001b[0;32m   5303\u001b[0m   i \u001b[38;5;241m+\u001b[39m\u001b[38;5;241m=\u001b[39m \u001b[38;5;241m1\u001b[39m\n\u001b[1;32m-> 5304\u001b[0m   response \u001b[38;5;241m=\u001b[39m \u001b[38;5;28mself\u001b[39m\u001b[38;5;241m.\u001b[39m_generate_content(\n\u001b[0;32m   5305\u001b[0m       model\u001b[38;5;241m=\u001b[39mmodel, contents\u001b[38;5;241m=\u001b[39mcontents, config\u001b[38;5;241m=\u001b[39mconfig\n\u001b[0;32m   5306\u001b[0m   )\n\u001b[0;32m   5307\u001b[0m   logger\u001b[38;5;241m.\u001b[39minfo(\u001b[38;5;124mf\u001b[39m\u001b[38;5;124m'\u001b[39m\u001b[38;5;124mAFC remote call \u001b[39m\u001b[38;5;132;01m{\u001b[39;00mi\u001b[38;5;132;01m}\u001b[39;00m\u001b[38;5;124m is done.\u001b[39m\u001b[38;5;124m'\u001b[39m)\n\u001b[0;32m   5308\u001b[0m   remaining_remote_calls_afc \u001b[38;5;241m-\u001b[39m\u001b[38;5;241m=\u001b[39m \u001b[38;5;241m1\u001b[39m\n",
      "File \u001b[1;32mc:\\Users\\trym1\\anaconda3\\Lib\\site-packages\\google\\genai\\models.py:4272\u001b[0m, in \u001b[0;36mModels._generate_content\u001b[1;34m(self, model, contents, config)\u001b[0m\n\u001b[0;32m   4269\u001b[0m request_dict \u001b[38;5;241m=\u001b[39m _common\u001b[38;5;241m.\u001b[39mconvert_to_dict(request_dict)\n\u001b[0;32m   4270\u001b[0m request_dict \u001b[38;5;241m=\u001b[39m _common\u001b[38;5;241m.\u001b[39mencode_unserializable_types(request_dict)\n\u001b[1;32m-> 4272\u001b[0m response_dict \u001b[38;5;241m=\u001b[39m \u001b[38;5;28mself\u001b[39m\u001b[38;5;241m.\u001b[39m_api_client\u001b[38;5;241m.\u001b[39mrequest(\n\u001b[0;32m   4273\u001b[0m     \u001b[38;5;124m'\u001b[39m\u001b[38;5;124mpost\u001b[39m\u001b[38;5;124m'\u001b[39m, path, request_dict, http_options\n\u001b[0;32m   4274\u001b[0m )\n\u001b[0;32m   4276\u001b[0m \u001b[38;5;28;01mif\u001b[39;00m \u001b[38;5;28mself\u001b[39m\u001b[38;5;241m.\u001b[39m_api_client\u001b[38;5;241m.\u001b[39mvertexai:\n\u001b[0;32m   4277\u001b[0m   response_dict \u001b[38;5;241m=\u001b[39m _GenerateContentResponse_from_vertex(\n\u001b[0;32m   4278\u001b[0m       \u001b[38;5;28mself\u001b[39m\u001b[38;5;241m.\u001b[39m_api_client, response_dict\n\u001b[0;32m   4279\u001b[0m   )\n",
      "File \u001b[1;32mc:\\Users\\trym1\\anaconda3\\Lib\\site-packages\\google\\genai\\_api_client.py:575\u001b[0m, in \u001b[0;36mBaseApiClient.request\u001b[1;34m(self, http_method, path, request_dict, http_options)\u001b[0m\n\u001b[0;32m    565\u001b[0m \u001b[38;5;28;01mdef\u001b[39;00m \u001b[38;5;21mrequest\u001b[39m(\n\u001b[0;32m    566\u001b[0m     \u001b[38;5;28mself\u001b[39m,\n\u001b[0;32m    567\u001b[0m     http_method: \u001b[38;5;28mstr\u001b[39m,\n\u001b[1;32m   (...)\u001b[0m\n\u001b[0;32m    570\u001b[0m     http_options: Optional[HttpOptionsOrDict] \u001b[38;5;241m=\u001b[39m \u001b[38;5;28;01mNone\u001b[39;00m,\n\u001b[0;32m    571\u001b[0m ):\n\u001b[0;32m    572\u001b[0m   http_request \u001b[38;5;241m=\u001b[39m \u001b[38;5;28mself\u001b[39m\u001b[38;5;241m.\u001b[39m_build_request(\n\u001b[0;32m    573\u001b[0m       http_method, path, request_dict, http_options\n\u001b[0;32m    574\u001b[0m   )\n\u001b[1;32m--> 575\u001b[0m   response \u001b[38;5;241m=\u001b[39m \u001b[38;5;28mself\u001b[39m\u001b[38;5;241m.\u001b[39m_request(http_request, stream\u001b[38;5;241m=\u001b[39m\u001b[38;5;28;01mFalse\u001b[39;00m)\n\u001b[0;32m    576\u001b[0m   json_response \u001b[38;5;241m=\u001b[39m response\u001b[38;5;241m.\u001b[39mjson\n\u001b[0;32m    577\u001b[0m   \u001b[38;5;28;01mif\u001b[39;00m \u001b[38;5;129;01mnot\u001b[39;00m json_response:\n",
      "File \u001b[1;32mc:\\Users\\trym1\\anaconda3\\Lib\\site-packages\\google\\genai\\_api_client.py:488\u001b[0m, in \u001b[0;36mBaseApiClient._request\u001b[1;34m(self, http_request, stream)\u001b[0m\n\u001b[0;32m    484\u001b[0m   \u001b[38;5;28;01mreturn\u001b[39;00m HttpResponse(\n\u001b[0;32m    485\u001b[0m       response\u001b[38;5;241m.\u001b[39mheaders, response \u001b[38;5;28;01mif\u001b[39;00m stream \u001b[38;5;28;01melse\u001b[39;00m [response\u001b[38;5;241m.\u001b[39mtext]\n\u001b[0;32m    486\u001b[0m   )\n\u001b[0;32m    487\u001b[0m \u001b[38;5;28;01melse\u001b[39;00m:\n\u001b[1;32m--> 488\u001b[0m   \u001b[38;5;28;01mreturn\u001b[39;00m \u001b[38;5;28mself\u001b[39m\u001b[38;5;241m.\u001b[39m_request_unauthorized(http_request, stream)\n",
      "File \u001b[1;32mc:\\Users\\trym1\\anaconda3\\Lib\\site-packages\\google\\genai\\_api_client.py:503\u001b[0m, in \u001b[0;36mBaseApiClient._request_unauthorized\u001b[1;34m(self, http_request, stream)\u001b[0m\n\u001b[0;32m    500\u001b[0m     data \u001b[38;5;241m=\u001b[39m http_request\u001b[38;5;241m.\u001b[39mdata\n\u001b[0;32m    502\u001b[0m http_session \u001b[38;5;241m=\u001b[39m requests\u001b[38;5;241m.\u001b[39mSession()\n\u001b[1;32m--> 503\u001b[0m response \u001b[38;5;241m=\u001b[39m http_session\u001b[38;5;241m.\u001b[39mrequest(\n\u001b[0;32m    504\u001b[0m     method\u001b[38;5;241m=\u001b[39mhttp_request\u001b[38;5;241m.\u001b[39mmethod,\n\u001b[0;32m    505\u001b[0m     url\u001b[38;5;241m=\u001b[39mhttp_request\u001b[38;5;241m.\u001b[39murl,\n\u001b[0;32m    506\u001b[0m     headers\u001b[38;5;241m=\u001b[39mhttp_request\u001b[38;5;241m.\u001b[39mheaders,\n\u001b[0;32m    507\u001b[0m     data\u001b[38;5;241m=\u001b[39mdata,\n\u001b[0;32m    508\u001b[0m     timeout\u001b[38;5;241m=\u001b[39mhttp_request\u001b[38;5;241m.\u001b[39mtimeout,\n\u001b[0;32m    509\u001b[0m     stream\u001b[38;5;241m=\u001b[39mstream,\n\u001b[0;32m    510\u001b[0m )\n\u001b[0;32m    511\u001b[0m errors\u001b[38;5;241m.\u001b[39mAPIError\u001b[38;5;241m.\u001b[39mraise_for_response(response)\n\u001b[0;32m    512\u001b[0m \u001b[38;5;28;01mreturn\u001b[39;00m HttpResponse(\n\u001b[0;32m    513\u001b[0m     response\u001b[38;5;241m.\u001b[39mheaders, response \u001b[38;5;28;01mif\u001b[39;00m stream \u001b[38;5;28;01melse\u001b[39;00m [response\u001b[38;5;241m.\u001b[39mtext]\n\u001b[0;32m    514\u001b[0m )\n",
      "File \u001b[1;32mc:\\Users\\trym1\\anaconda3\\Lib\\site-packages\\requests\\sessions.py:589\u001b[0m, in \u001b[0;36mSession.request\u001b[1;34m(self, method, url, params, data, headers, cookies, files, auth, timeout, allow_redirects, proxies, hooks, stream, verify, cert, json)\u001b[0m\n\u001b[0;32m    584\u001b[0m send_kwargs \u001b[38;5;241m=\u001b[39m {\n\u001b[0;32m    585\u001b[0m     \u001b[38;5;124m\"\u001b[39m\u001b[38;5;124mtimeout\u001b[39m\u001b[38;5;124m\"\u001b[39m: timeout,\n\u001b[0;32m    586\u001b[0m     \u001b[38;5;124m\"\u001b[39m\u001b[38;5;124mallow_redirects\u001b[39m\u001b[38;5;124m\"\u001b[39m: allow_redirects,\n\u001b[0;32m    587\u001b[0m }\n\u001b[0;32m    588\u001b[0m send_kwargs\u001b[38;5;241m.\u001b[39mupdate(settings)\n\u001b[1;32m--> 589\u001b[0m resp \u001b[38;5;241m=\u001b[39m \u001b[38;5;28mself\u001b[39m\u001b[38;5;241m.\u001b[39msend(prep, \u001b[38;5;241m*\u001b[39m\u001b[38;5;241m*\u001b[39msend_kwargs)\n\u001b[0;32m    591\u001b[0m \u001b[38;5;28;01mreturn\u001b[39;00m resp\n",
      "File \u001b[1;32mc:\\Users\\trym1\\anaconda3\\Lib\\site-packages\\requests\\sessions.py:703\u001b[0m, in \u001b[0;36mSession.send\u001b[1;34m(self, request, **kwargs)\u001b[0m\n\u001b[0;32m    700\u001b[0m start \u001b[38;5;241m=\u001b[39m preferred_clock()\n\u001b[0;32m    702\u001b[0m \u001b[38;5;66;03m# Send the request\u001b[39;00m\n\u001b[1;32m--> 703\u001b[0m r \u001b[38;5;241m=\u001b[39m adapter\u001b[38;5;241m.\u001b[39msend(request, \u001b[38;5;241m*\u001b[39m\u001b[38;5;241m*\u001b[39mkwargs)\n\u001b[0;32m    705\u001b[0m \u001b[38;5;66;03m# Total elapsed time of the request (approximately)\u001b[39;00m\n\u001b[0;32m    706\u001b[0m elapsed \u001b[38;5;241m=\u001b[39m preferred_clock() \u001b[38;5;241m-\u001b[39m start\n",
      "File \u001b[1;32mc:\\Users\\trym1\\anaconda3\\Lib\\site-packages\\requests\\adapters.py:667\u001b[0m, in \u001b[0;36mHTTPAdapter.send\u001b[1;34m(self, request, stream, timeout, verify, cert, proxies)\u001b[0m\n\u001b[0;32m    664\u001b[0m     timeout \u001b[38;5;241m=\u001b[39m TimeoutSauce(connect\u001b[38;5;241m=\u001b[39mtimeout, read\u001b[38;5;241m=\u001b[39mtimeout)\n\u001b[0;32m    666\u001b[0m \u001b[38;5;28;01mtry\u001b[39;00m:\n\u001b[1;32m--> 667\u001b[0m     resp \u001b[38;5;241m=\u001b[39m conn\u001b[38;5;241m.\u001b[39murlopen(\n\u001b[0;32m    668\u001b[0m         method\u001b[38;5;241m=\u001b[39mrequest\u001b[38;5;241m.\u001b[39mmethod,\n\u001b[0;32m    669\u001b[0m         url\u001b[38;5;241m=\u001b[39murl,\n\u001b[0;32m    670\u001b[0m         body\u001b[38;5;241m=\u001b[39mrequest\u001b[38;5;241m.\u001b[39mbody,\n\u001b[0;32m    671\u001b[0m         headers\u001b[38;5;241m=\u001b[39mrequest\u001b[38;5;241m.\u001b[39mheaders,\n\u001b[0;32m    672\u001b[0m         redirect\u001b[38;5;241m=\u001b[39m\u001b[38;5;28;01mFalse\u001b[39;00m,\n\u001b[0;32m    673\u001b[0m         assert_same_host\u001b[38;5;241m=\u001b[39m\u001b[38;5;28;01mFalse\u001b[39;00m,\n\u001b[0;32m    674\u001b[0m         preload_content\u001b[38;5;241m=\u001b[39m\u001b[38;5;28;01mFalse\u001b[39;00m,\n\u001b[0;32m    675\u001b[0m         decode_content\u001b[38;5;241m=\u001b[39m\u001b[38;5;28;01mFalse\u001b[39;00m,\n\u001b[0;32m    676\u001b[0m         retries\u001b[38;5;241m=\u001b[39m\u001b[38;5;28mself\u001b[39m\u001b[38;5;241m.\u001b[39mmax_retries,\n\u001b[0;32m    677\u001b[0m         timeout\u001b[38;5;241m=\u001b[39mtimeout,\n\u001b[0;32m    678\u001b[0m         chunked\u001b[38;5;241m=\u001b[39mchunked,\n\u001b[0;32m    679\u001b[0m     )\n\u001b[0;32m    681\u001b[0m \u001b[38;5;28;01mexcept\u001b[39;00m (ProtocolError, \u001b[38;5;167;01mOSError\u001b[39;00m) \u001b[38;5;28;01mas\u001b[39;00m err:\n\u001b[0;32m    682\u001b[0m     \u001b[38;5;28;01mraise\u001b[39;00m \u001b[38;5;167;01mConnectionError\u001b[39;00m(err, request\u001b[38;5;241m=\u001b[39mrequest)\n",
      "File \u001b[1;32mc:\\Users\\trym1\\anaconda3\\Lib\\site-packages\\urllib3\\connectionpool.py:787\u001b[0m, in \u001b[0;36mHTTPConnectionPool.urlopen\u001b[1;34m(self, method, url, body, headers, retries, redirect, assert_same_host, timeout, pool_timeout, release_conn, chunked, body_pos, preload_content, decode_content, **response_kw)\u001b[0m\n\u001b[0;32m    784\u001b[0m response_conn \u001b[38;5;241m=\u001b[39m conn \u001b[38;5;28;01mif\u001b[39;00m \u001b[38;5;129;01mnot\u001b[39;00m release_conn \u001b[38;5;28;01melse\u001b[39;00m \u001b[38;5;28;01mNone\u001b[39;00m\n\u001b[0;32m    786\u001b[0m \u001b[38;5;66;03m# Make the request on the HTTPConnection object\u001b[39;00m\n\u001b[1;32m--> 787\u001b[0m response \u001b[38;5;241m=\u001b[39m \u001b[38;5;28mself\u001b[39m\u001b[38;5;241m.\u001b[39m_make_request(\n\u001b[0;32m    788\u001b[0m     conn,\n\u001b[0;32m    789\u001b[0m     method,\n\u001b[0;32m    790\u001b[0m     url,\n\u001b[0;32m    791\u001b[0m     timeout\u001b[38;5;241m=\u001b[39mtimeout_obj,\n\u001b[0;32m    792\u001b[0m     body\u001b[38;5;241m=\u001b[39mbody,\n\u001b[0;32m    793\u001b[0m     headers\u001b[38;5;241m=\u001b[39mheaders,\n\u001b[0;32m    794\u001b[0m     chunked\u001b[38;5;241m=\u001b[39mchunked,\n\u001b[0;32m    795\u001b[0m     retries\u001b[38;5;241m=\u001b[39mretries,\n\u001b[0;32m    796\u001b[0m     response_conn\u001b[38;5;241m=\u001b[39mresponse_conn,\n\u001b[0;32m    797\u001b[0m     preload_content\u001b[38;5;241m=\u001b[39mpreload_content,\n\u001b[0;32m    798\u001b[0m     decode_content\u001b[38;5;241m=\u001b[39mdecode_content,\n\u001b[0;32m    799\u001b[0m     \u001b[38;5;241m*\u001b[39m\u001b[38;5;241m*\u001b[39mresponse_kw,\n\u001b[0;32m    800\u001b[0m )\n\u001b[0;32m    802\u001b[0m \u001b[38;5;66;03m# Everything went great!\u001b[39;00m\n\u001b[0;32m    803\u001b[0m clean_exit \u001b[38;5;241m=\u001b[39m \u001b[38;5;28;01mTrue\u001b[39;00m\n",
      "File \u001b[1;32mc:\\Users\\trym1\\anaconda3\\Lib\\site-packages\\urllib3\\connectionpool.py:534\u001b[0m, in \u001b[0;36mHTTPConnectionPool._make_request\u001b[1;34m(self, conn, method, url, body, headers, retries, timeout, chunked, response_conn, preload_content, decode_content, enforce_content_length)\u001b[0m\n\u001b[0;32m    532\u001b[0m \u001b[38;5;66;03m# Receive the response from the server\u001b[39;00m\n\u001b[0;32m    533\u001b[0m \u001b[38;5;28;01mtry\u001b[39;00m:\n\u001b[1;32m--> 534\u001b[0m     response \u001b[38;5;241m=\u001b[39m conn\u001b[38;5;241m.\u001b[39mgetresponse()\n\u001b[0;32m    535\u001b[0m \u001b[38;5;28;01mexcept\u001b[39;00m (BaseSSLError, \u001b[38;5;167;01mOSError\u001b[39;00m) \u001b[38;5;28;01mas\u001b[39;00m e:\n\u001b[0;32m    536\u001b[0m     \u001b[38;5;28mself\u001b[39m\u001b[38;5;241m.\u001b[39m_raise_timeout(err\u001b[38;5;241m=\u001b[39me, url\u001b[38;5;241m=\u001b[39murl, timeout_value\u001b[38;5;241m=\u001b[39mread_timeout)\n",
      "File \u001b[1;32mc:\\Users\\trym1\\anaconda3\\Lib\\site-packages\\urllib3\\connection.py:516\u001b[0m, in \u001b[0;36mHTTPConnection.getresponse\u001b[1;34m(self)\u001b[0m\n\u001b[0;32m    513\u001b[0m _shutdown \u001b[38;5;241m=\u001b[39m \u001b[38;5;28mgetattr\u001b[39m(\u001b[38;5;28mself\u001b[39m\u001b[38;5;241m.\u001b[39msock, \u001b[38;5;124m\"\u001b[39m\u001b[38;5;124mshutdown\u001b[39m\u001b[38;5;124m\"\u001b[39m, \u001b[38;5;28;01mNone\u001b[39;00m)\n\u001b[0;32m    515\u001b[0m \u001b[38;5;66;03m# Get the response from http.client.HTTPConnection\u001b[39;00m\n\u001b[1;32m--> 516\u001b[0m httplib_response \u001b[38;5;241m=\u001b[39m \u001b[38;5;28msuper\u001b[39m()\u001b[38;5;241m.\u001b[39mgetresponse()\n\u001b[0;32m    518\u001b[0m \u001b[38;5;28;01mtry\u001b[39;00m:\n\u001b[0;32m    519\u001b[0m     assert_header_parsing(httplib_response\u001b[38;5;241m.\u001b[39mmsg)\n",
      "File \u001b[1;32mc:\\Users\\trym1\\anaconda3\\Lib\\http\\client.py:1428\u001b[0m, in \u001b[0;36mHTTPConnection.getresponse\u001b[1;34m(self)\u001b[0m\n\u001b[0;32m   1426\u001b[0m \u001b[38;5;28;01mtry\u001b[39;00m:\n\u001b[0;32m   1427\u001b[0m     \u001b[38;5;28;01mtry\u001b[39;00m:\n\u001b[1;32m-> 1428\u001b[0m         response\u001b[38;5;241m.\u001b[39mbegin()\n\u001b[0;32m   1429\u001b[0m     \u001b[38;5;28;01mexcept\u001b[39;00m \u001b[38;5;167;01mConnectionError\u001b[39;00m:\n\u001b[0;32m   1430\u001b[0m         \u001b[38;5;28mself\u001b[39m\u001b[38;5;241m.\u001b[39mclose()\n",
      "File \u001b[1;32mc:\\Users\\trym1\\anaconda3\\Lib\\http\\client.py:331\u001b[0m, in \u001b[0;36mHTTPResponse.begin\u001b[1;34m(self)\u001b[0m\n\u001b[0;32m    329\u001b[0m \u001b[38;5;66;03m# read until we get a non-100 response\u001b[39;00m\n\u001b[0;32m    330\u001b[0m \u001b[38;5;28;01mwhile\u001b[39;00m \u001b[38;5;28;01mTrue\u001b[39;00m:\n\u001b[1;32m--> 331\u001b[0m     version, status, reason \u001b[38;5;241m=\u001b[39m \u001b[38;5;28mself\u001b[39m\u001b[38;5;241m.\u001b[39m_read_status()\n\u001b[0;32m    332\u001b[0m     \u001b[38;5;28;01mif\u001b[39;00m status \u001b[38;5;241m!=\u001b[39m CONTINUE:\n\u001b[0;32m    333\u001b[0m         \u001b[38;5;28;01mbreak\u001b[39;00m\n",
      "File \u001b[1;32mc:\\Users\\trym1\\anaconda3\\Lib\\http\\client.py:292\u001b[0m, in \u001b[0;36mHTTPResponse._read_status\u001b[1;34m(self)\u001b[0m\n\u001b[0;32m    291\u001b[0m \u001b[38;5;28;01mdef\u001b[39;00m \u001b[38;5;21m_read_status\u001b[39m(\u001b[38;5;28mself\u001b[39m):\n\u001b[1;32m--> 292\u001b[0m     line \u001b[38;5;241m=\u001b[39m \u001b[38;5;28mstr\u001b[39m(\u001b[38;5;28mself\u001b[39m\u001b[38;5;241m.\u001b[39mfp\u001b[38;5;241m.\u001b[39mreadline(_MAXLINE \u001b[38;5;241m+\u001b[39m \u001b[38;5;241m1\u001b[39m), \u001b[38;5;124m\"\u001b[39m\u001b[38;5;124miso-8859-1\u001b[39m\u001b[38;5;124m\"\u001b[39m)\n\u001b[0;32m    293\u001b[0m     \u001b[38;5;28;01mif\u001b[39;00m \u001b[38;5;28mlen\u001b[39m(line) \u001b[38;5;241m>\u001b[39m _MAXLINE:\n\u001b[0;32m    294\u001b[0m         \u001b[38;5;28;01mraise\u001b[39;00m LineTooLong(\u001b[38;5;124m\"\u001b[39m\u001b[38;5;124mstatus line\u001b[39m\u001b[38;5;124m\"\u001b[39m)\n",
      "File \u001b[1;32mc:\\Users\\trym1\\anaconda3\\Lib\\socket.py:720\u001b[0m, in \u001b[0;36mSocketIO.readinto\u001b[1;34m(self, b)\u001b[0m\n\u001b[0;32m    718\u001b[0m \u001b[38;5;28;01mwhile\u001b[39;00m \u001b[38;5;28;01mTrue\u001b[39;00m:\n\u001b[0;32m    719\u001b[0m     \u001b[38;5;28;01mtry\u001b[39;00m:\n\u001b[1;32m--> 720\u001b[0m         \u001b[38;5;28;01mreturn\u001b[39;00m \u001b[38;5;28mself\u001b[39m\u001b[38;5;241m.\u001b[39m_sock\u001b[38;5;241m.\u001b[39mrecv_into(b)\n\u001b[0;32m    721\u001b[0m     \u001b[38;5;28;01mexcept\u001b[39;00m timeout:\n\u001b[0;32m    722\u001b[0m         \u001b[38;5;28mself\u001b[39m\u001b[38;5;241m.\u001b[39m_timeout_occurred \u001b[38;5;241m=\u001b[39m \u001b[38;5;28;01mTrue\u001b[39;00m\n",
      "File \u001b[1;32mc:\\Users\\trym1\\anaconda3\\Lib\\ssl.py:1251\u001b[0m, in \u001b[0;36mSSLSocket.recv_into\u001b[1;34m(self, buffer, nbytes, flags)\u001b[0m\n\u001b[0;32m   1247\u001b[0m     \u001b[38;5;28;01mif\u001b[39;00m flags \u001b[38;5;241m!=\u001b[39m \u001b[38;5;241m0\u001b[39m:\n\u001b[0;32m   1248\u001b[0m         \u001b[38;5;28;01mraise\u001b[39;00m \u001b[38;5;167;01mValueError\u001b[39;00m(\n\u001b[0;32m   1249\u001b[0m           \u001b[38;5;124m\"\u001b[39m\u001b[38;5;124mnon-zero flags not allowed in calls to recv_into() on \u001b[39m\u001b[38;5;132;01m%s\u001b[39;00m\u001b[38;5;124m\"\u001b[39m \u001b[38;5;241m%\u001b[39m\n\u001b[0;32m   1250\u001b[0m           \u001b[38;5;28mself\u001b[39m\u001b[38;5;241m.\u001b[39m\u001b[38;5;18m__class__\u001b[39m)\n\u001b[1;32m-> 1251\u001b[0m     \u001b[38;5;28;01mreturn\u001b[39;00m \u001b[38;5;28mself\u001b[39m\u001b[38;5;241m.\u001b[39mread(nbytes, buffer)\n\u001b[0;32m   1252\u001b[0m \u001b[38;5;28;01melse\u001b[39;00m:\n\u001b[0;32m   1253\u001b[0m     \u001b[38;5;28;01mreturn\u001b[39;00m \u001b[38;5;28msuper\u001b[39m()\u001b[38;5;241m.\u001b[39mrecv_into(buffer, nbytes, flags)\n",
      "File \u001b[1;32mc:\\Users\\trym1\\anaconda3\\Lib\\ssl.py:1103\u001b[0m, in \u001b[0;36mSSLSocket.read\u001b[1;34m(self, len, buffer)\u001b[0m\n\u001b[0;32m   1101\u001b[0m \u001b[38;5;28;01mtry\u001b[39;00m:\n\u001b[0;32m   1102\u001b[0m     \u001b[38;5;28;01mif\u001b[39;00m buffer \u001b[38;5;129;01mis\u001b[39;00m \u001b[38;5;129;01mnot\u001b[39;00m \u001b[38;5;28;01mNone\u001b[39;00m:\n\u001b[1;32m-> 1103\u001b[0m         \u001b[38;5;28;01mreturn\u001b[39;00m \u001b[38;5;28mself\u001b[39m\u001b[38;5;241m.\u001b[39m_sslobj\u001b[38;5;241m.\u001b[39mread(\u001b[38;5;28mlen\u001b[39m, buffer)\n\u001b[0;32m   1104\u001b[0m     \u001b[38;5;28;01melse\u001b[39;00m:\n\u001b[0;32m   1105\u001b[0m         \u001b[38;5;28;01mreturn\u001b[39;00m \u001b[38;5;28mself\u001b[39m\u001b[38;5;241m.\u001b[39m_sslobj\u001b[38;5;241m.\u001b[39mread(\u001b[38;5;28mlen\u001b[39m)\n",
      "\u001b[1;31mKeyboardInterrupt\u001b[0m: "
     ]
    }
   ],
   "source": [
    "from random import choices\n",
    "population = [0, 20, 25, 40]\n",
    "weights = [0.25, 0.25, 0.25, 0.25]\n",
    "\n",
    "\n",
    "for paper_version in range(1, 10):\n",
    "    #Check plagiarism score\n",
    "    plagiarism_score = choices(population, weights)[0]\n",
    "    print(f\"Plagiarism score: {plagiarism_score}%\")\n",
    "    if plagiarism_score > 15:\n",
    "        # Path to the PDF file in the 'files' folder\n",
    "        doc_path = f\"{file_path}.pdf\"\n",
    "        \n",
    "        # Read the PDF file bytes\n",
    "        doc = pathlib.Path(doc_path)\n",
    "        pdf_bytes = doc.read_bytes()\n",
    "\n",
    "        prompt = f\"You got got cought plagiarizing. The plagirism score was {plagiarism_score}%. Write the paper again to fix the plagiarism.\"\n",
    "        sys_instruction=\"All prompts should be answered with an in depth paper with an introduction, middle and end structured into chapters that is about 4 pages, written in markdown and include sources. Dont answer anything with less than 4 pages. Dont write anything other than the paper. The paper should be about the same topic as the previous one. With as few changes as possible.\"\n",
    "\n",
    "        response = client.models.generate_content(\n",
    "        model=\"gemini-2.0-flash\",\n",
    "        config=types.GenerateContentConfig(\n",
    "            system_instruction=sys_instruction),\n",
    "            contents=[\n",
    "            types.Part.from_bytes(\n",
    "                data=pdf_bytes,\n",
    "                mime_type='application/pdf',\n",
    "                ),\n",
    "                prompt])\n",
    "\n",
    "        try: \n",
    "            file_path = f\"outputs/{paper_number}_{topic}_version{paper_version+1}\"\n",
    "            with open(f\"outputs/{paper_number}_{topic}_version{paper_version+1}.md\", \"a\") as f:\n",
    "                f.write(response.text)\n",
    "                command = f'pandoc \"{file_path}.md\" --pdf-engine=xelatex -o \"{file_path}.pdf'\n",
    "                subprocess.run(command, shell=True, check=True)\n",
    "        except:\n",
    "            pass\n",
    "    else:\n",
    "        break"
   ]
  }
 ],
 "metadata": {
  "kernelspec": {
   "display_name": "base",
   "language": "python",
   "name": "python3"
  },
  "language_info": {
   "codemirror_mode": {
    "name": "ipython",
    "version": 3
   },
   "file_extension": ".py",
   "mimetype": "text/x-python",
   "name": "python",
   "nbconvert_exporter": "python",
   "pygments_lexer": "ipython3",
   "version": "3.12.7"
  }
 },
 "nbformat": 4,
 "nbformat_minor": 2
}
